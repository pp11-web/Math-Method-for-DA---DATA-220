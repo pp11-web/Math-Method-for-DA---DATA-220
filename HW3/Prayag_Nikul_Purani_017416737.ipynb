{
 "cells": [
  {
   "cell_type": "markdown",
   "id": "22014512",
   "metadata": {},
   "source": [
    "# Question 2"
   ]
  },
  {
   "cell_type": "code",
   "execution_count": 3,
   "id": "bfd87b62",
   "metadata": {},
   "outputs": [],
   "source": [
    "import numpy as np"
   ]
  },
  {
   "cell_type": "markdown",
   "id": "35811593",
   "metadata": {},
   "source": [
    "# Importing document "
   ]
  },
  {
   "cell_type": "code",
   "execution_count": 4,
   "id": "e4942b65",
   "metadata": {},
   "outputs": [],
   "source": [
    "with open(\"doc_similarity.txt\",\"r\") as file:\n",
    "    documents = file.readlines()"
   ]
  },
  {
   "cell_type": "code",
   "execution_count": 5,
   "id": "d8984c6a",
   "metadata": {},
   "outputs": [
    {
     "data": {
      "text/plain": [
       "['Document,Content\\n',\n",
       " 'Document 1,\"Data science is the art of extracting insights and knowledge from data. Python is a versatile tool for data scientists.\"\\n',\n",
       " 'Document 2,\"In Python, libraries like NumPy and Pandas are essential for data manipulation and analysis in data science.\"\\n',\n",
       " 'Document 3,\"Data visualization is a crucial part of data science, and Python\\'s Matplotlib and Seaborn libraries help create informative plots and charts.\"\\n',\n",
       " 'Document 4,\"Scikit-Learn is a powerful Python library for machine learning. It provides tools for classification, regression, and clustering.\"\\n',\n",
       " 'Document 5,\"Natural Language Processing (NLP) is a subfield of data science. Python\\'s NLTK and spaCy are popular libraries for NLP tasks.\"\\n',\n",
       " 'Document 6,\"Jupyter notebooks are widely used in data science to create and share data analysis reports. These notebooks are interactive and support Python code.\"\\n',\n",
       " 'Document 7,\"Data preprocessing is a crucial step in data science. Python offers tools for handling missing data, scaling features, and encoding categorical variables.\"\\n',\n",
       " 'Document 8,\"Machine learning algorithms like decision trees, support vector machines, and random forests are implemented in Python for predictive modeling.\"\\n',\n",
       " 'Document 9,\"Python\\'s data science ecosystem is continuously evolving, with new libraries and tools regularly emerging to support data analysis and model development.\"\\n',\n",
       " 'Document 10,\"Data scientists use Python for a wide range of applications, from business analytics and finance to healthcare and social sciences.\"\\n']"
      ]
     },
     "execution_count": 5,
     "metadata": {},
     "output_type": "execute_result"
    }
   ],
   "source": [
    "documents"
   ]
  },
  {
   "cell_type": "markdown",
   "id": "2f044837",
   "metadata": {},
   "source": [
    "# Tokenization and converting it to lowercase"
   ]
  },
  {
   "cell_type": "code",
   "execution_count": 6,
   "id": "9b14bdef",
   "metadata": {},
   "outputs": [],
   "source": [
    "pd = [doc.lower().split() for doc in documents]"
   ]
  },
  {
   "cell_type": "code",
   "execution_count": 7,
   "id": "e5e7449b",
   "metadata": {},
   "outputs": [
    {
     "data": {
      "text/plain": [
       "['document,content']"
      ]
     },
     "execution_count": 7,
     "metadata": {},
     "output_type": "execute_result"
    }
   ],
   "source": [
    "pd.pop(0)"
   ]
  },
  {
   "cell_type": "code",
   "execution_count": 8,
   "id": "757fc44d",
   "metadata": {},
   "outputs": [],
   "source": [
    "# The problem is the 1st position in each sub-list for example the 1st sublist '1,\"data' this the 2nd value of the first sublist but we need to remove 1,\" now\n",
    "l = []\n",
    "for i in range(len(pd)):\n",
    "    slist = pd[i]\n",
    "    del slist[0:1]\n",
    "    s = slist[0]\n",
    "    slist.pop(0)\n",
    "    j = s.find('\"')\n",
    "    s = s[j+1:len(s)]\n",
    "    slist.insert(0,s)\n",
    "    l.append(slist)"
   ]
  },
  {
   "cell_type": "code",
   "execution_count": 9,
   "id": "66e89be7",
   "metadata": {},
   "outputs": [
    {
     "name": "stdout",
     "output_type": "stream",
     "text": [
      "Document 1: ['data', 'science', 'is', 'the', 'art', 'of', 'extracting', 'insights', 'and', 'knowledge', 'from', 'data.', 'python', 'is', 'a', 'versatile', 'tool', 'for', 'data', 'scientists.\"']\n",
      "Document 2: ['in', 'python,', 'libraries', 'like', 'numpy', 'and', 'pandas', 'are', 'essential', 'for', 'data', 'manipulation', 'and', 'analysis', 'in', 'data', 'science.\"']\n",
      "Document 3: ['data', 'visualization', 'is', 'a', 'crucial', 'part', 'of', 'data', 'science,', 'and', \"python's\", 'matplotlib', 'and', 'seaborn', 'libraries', 'help', 'create', 'informative', 'plots', 'and', 'charts.\"']\n",
      "Document 4: ['scikit-learn', 'is', 'a', 'powerful', 'python', 'library', 'for', 'machine', 'learning.', 'it', 'provides', 'tools', 'for', 'classification,', 'regression,', 'and', 'clustering.\"']\n",
      "Document 5: ['natural', 'language', 'processing', '(nlp)', 'is', 'a', 'subfield', 'of', 'data', 'science.', \"python's\", 'nltk', 'and', 'spacy', 'are', 'popular', 'libraries', 'for', 'nlp', 'tasks.\"']\n",
      "Document 6: ['jupyter', 'notebooks', 'are', 'widely', 'used', 'in', 'data', 'science', 'to', 'create', 'and', 'share', 'data', 'analysis', 'reports.', 'these', 'notebooks', 'are', 'interactive', 'and', 'support', 'python', 'code.\"']\n",
      "Document 7: ['data', 'preprocessing', 'is', 'a', 'crucial', 'step', 'in', 'data', 'science.', 'python', 'offers', 'tools', 'for', 'handling', 'missing', 'data,', 'scaling', 'features,', 'and', 'encoding', 'categorical', 'variables.\"']\n",
      "Document 8: ['machine', 'learning', 'algorithms', 'like', 'decision', 'trees,', 'support', 'vector', 'machines,', 'and', 'random', 'forests', 'are', 'implemented', 'in', 'python', 'for', 'predictive', 'modeling.\"']\n",
      "Document 9: [\"python's\", 'data', 'science', 'ecosystem', 'is', 'continuously', 'evolving,', 'with', 'new', 'libraries', 'and', 'tools', 'regularly', 'emerging', 'to', 'support', 'data', 'analysis', 'and', 'model', 'development.\"']\n",
      "Document 10: ['data', 'scientists', 'use', 'python', 'for', 'a', 'wide', 'range', 'of', 'applications,', 'from', 'business', 'analytics', 'and', 'finance', 'to', 'healthcare', 'and', 'social', 'sciences.\"']\n"
     ]
    }
   ],
   "source": [
    "for idx, doc in enumerate(l):\n",
    "    print(f\"Document {idx + 1}: {doc}\")"
   ]
  },
  {
   "cell_type": "code",
   "execution_count": 10,
   "id": "5a43389c",
   "metadata": {},
   "outputs": [],
   "source": [
    "import string\n",
    "cleaned_documents = []\n",
    "for doc in l:\n",
    "    cleaned_doc = [word.strip(string.punctuation) for word in doc]\n",
    "    cleaned_documents.append(cleaned_doc)"
   ]
  },
  {
   "cell_type": "code",
   "execution_count": 11,
   "id": "44f92044",
   "metadata": {},
   "outputs": [
    {
     "name": "stdout",
     "output_type": "stream",
     "text": [
      "Document 1: ['data', 'science', 'is', 'the', 'art', 'of', 'extracting', 'insights', 'and', 'knowledge', 'from', 'data', 'python', 'is', 'a', 'versatile', 'tool', 'for', 'data', 'scientists']\n",
      "Document 2: ['in', 'python', 'libraries', 'like', 'numpy', 'and', 'pandas', 'are', 'essential', 'for', 'data', 'manipulation', 'and', 'analysis', 'in', 'data', 'science']\n",
      "Document 3: ['data', 'visualization', 'is', 'a', 'crucial', 'part', 'of', 'data', 'science', 'and', \"python's\", 'matplotlib', 'and', 'seaborn', 'libraries', 'help', 'create', 'informative', 'plots', 'and', 'charts']\n",
      "Document 4: ['scikit-learn', 'is', 'a', 'powerful', 'python', 'library', 'for', 'machine', 'learning', 'it', 'provides', 'tools', 'for', 'classification', 'regression', 'and', 'clustering']\n",
      "Document 5: ['natural', 'language', 'processing', 'nlp', 'is', 'a', 'subfield', 'of', 'data', 'science', \"python's\", 'nltk', 'and', 'spacy', 'are', 'popular', 'libraries', 'for', 'nlp', 'tasks']\n",
      "Document 6: ['jupyter', 'notebooks', 'are', 'widely', 'used', 'in', 'data', 'science', 'to', 'create', 'and', 'share', 'data', 'analysis', 'reports', 'these', 'notebooks', 'are', 'interactive', 'and', 'support', 'python', 'code']\n",
      "Document 7: ['data', 'preprocessing', 'is', 'a', 'crucial', 'step', 'in', 'data', 'science', 'python', 'offers', 'tools', 'for', 'handling', 'missing', 'data', 'scaling', 'features', 'and', 'encoding', 'categorical', 'variables']\n",
      "Document 8: ['machine', 'learning', 'algorithms', 'like', 'decision', 'trees', 'support', 'vector', 'machines', 'and', 'random', 'forests', 'are', 'implemented', 'in', 'python', 'for', 'predictive', 'modeling']\n",
      "Document 9: [\"python's\", 'data', 'science', 'ecosystem', 'is', 'continuously', 'evolving', 'with', 'new', 'libraries', 'and', 'tools', 'regularly', 'emerging', 'to', 'support', 'data', 'analysis', 'and', 'model', 'development']\n",
      "Document 10: ['data', 'scientists', 'use', 'python', 'for', 'a', 'wide', 'range', 'of', 'applications', 'from', 'business', 'analytics', 'and', 'finance', 'to', 'healthcare', 'and', 'social', 'sciences']\n"
     ]
    }
   ],
   "source": [
    "for i, doc in enumerate(cleaned_documents):\n",
    "    print(f\"Document {i + 1}: {doc}\")"
   ]
  },
  {
   "cell_type": "code",
   "execution_count": 14,
   "id": "4a5bd740",
   "metadata": {},
   "outputs": [],
   "source": [
    "# Define your own list of stop words\n",
    "stop_words = [\"is\", \"the\", \"of\", \"and\", \"for\", \"in\", \"are\", \"a\", \"and\", \"to\", \"with\", \"from\", \"on\", \"it\", \"that\", \"as\", \"an\", \"by\", \"this\"]"
   ]
  },
  {
   "cell_type": "code",
   "execution_count": 15,
   "id": "b416dc9b",
   "metadata": {},
   "outputs": [],
   "source": [
    "l = []\n",
    "for doc in cleaned_documents:\n",
    "    cleaned_doc = [word for word in doc if word.lower() not in stop_words]\n",
    "    l.append(cleaned_doc)"
   ]
  },
  {
   "cell_type": "code",
   "execution_count": 16,
   "id": "5d094d75",
   "metadata": {},
   "outputs": [
    {
     "name": "stdout",
     "output_type": "stream",
     "text": [
      "Document 1: ['data', 'science', 'art', 'extracting', 'insights', 'knowledge', 'data', 'python', 'versatile', 'tool', 'data', 'scientists']\n",
      "Document 2: ['python', 'libraries', 'like', 'numpy', 'pandas', 'essential', 'data', 'manipulation', 'analysis', 'data', 'science']\n",
      "Document 3: ['data', 'visualization', 'crucial', 'part', 'data', 'science', \"python's\", 'matplotlib', 'seaborn', 'libraries', 'help', 'create', 'informative', 'plots', 'charts']\n",
      "Document 4: ['scikit-learn', 'powerful', 'python', 'library', 'machine', 'learning', 'provides', 'tools', 'classification', 'regression', 'clustering']\n",
      "Document 5: ['natural', 'language', 'processing', 'nlp', 'subfield', 'data', 'science', \"python's\", 'nltk', 'spacy', 'popular', 'libraries', 'nlp', 'tasks']\n",
      "Document 6: ['jupyter', 'notebooks', 'widely', 'used', 'data', 'science', 'create', 'share', 'data', 'analysis', 'reports', 'these', 'notebooks', 'interactive', 'support', 'python', 'code']\n",
      "Document 7: ['data', 'preprocessing', 'crucial', 'step', 'data', 'science', 'python', 'offers', 'tools', 'handling', 'missing', 'data', 'scaling', 'features', 'encoding', 'categorical', 'variables']\n",
      "Document 8: ['machine', 'learning', 'algorithms', 'like', 'decision', 'trees', 'support', 'vector', 'machines', 'random', 'forests', 'implemented', 'python', 'predictive', 'modeling']\n",
      "Document 9: [\"python's\", 'data', 'science', 'ecosystem', 'continuously', 'evolving', 'new', 'libraries', 'tools', 'regularly', 'emerging', 'support', 'data', 'analysis', 'model', 'development']\n",
      "Document 10: ['data', 'scientists', 'use', 'python', 'wide', 'range', 'applications', 'business', 'analytics', 'finance', 'healthcare', 'social', 'sciences']\n"
     ]
    }
   ],
   "source": [
    "for i, doc in enumerate(l):\n",
    "    print(f\"Document {i + 1}: {doc}\")"
   ]
  },
  {
   "cell_type": "code",
   "execution_count": 17,
   "id": "1f5f13ca",
   "metadata": {},
   "outputs": [
    {
     "data": {
      "text/plain": [
       "95"
      ]
     },
     "execution_count": 17,
     "metadata": {},
     "output_type": "execute_result"
    }
   ],
   "source": [
    "# Create a Bag of words\n",
    "BOW = list(set(word for doc in l for word in doc))\n",
    "len(BOW)"
   ]
  },
  {
   "cell_type": "code",
   "execution_count": 18,
   "id": "51d292d7",
   "metadata": {},
   "outputs": [
    {
     "data": {
      "text/plain": [
       "['regularly',\n",
       " 'nltk',\n",
       " 'wide',\n",
       " 'ecosystem',\n",
       " 'tools',\n",
       " 'algorithms',\n",
       " 'evolving',\n",
       " 'part',\n",
       " 'informative',\n",
       " 'libraries',\n",
       " 'forests',\n",
       " 'learning',\n",
       " 'tool',\n",
       " 'trees',\n",
       " 'subfield',\n",
       " 'analytics',\n",
       " 'random',\n",
       " 'create',\n",
       " 'clustering',\n",
       " 'implemented',\n",
       " 'scientists',\n",
       " 'numpy',\n",
       " 'seaborn',\n",
       " 'visualization',\n",
       " 'crucial',\n",
       " 'versatile',\n",
       " 'analysis',\n",
       " 'popular',\n",
       " 'missing',\n",
       " 'these',\n",
       " 'library',\n",
       " 'development',\n",
       " 'like',\n",
       " 'spacy',\n",
       " 'python',\n",
       " 'essential',\n",
       " 'reports',\n",
       " 'use',\n",
       " 'tasks',\n",
       " 'machines',\n",
       " 'natural',\n",
       " 'handling',\n",
       " 'vector',\n",
       " 'predictive',\n",
       " 'variables',\n",
       " 'notebooks',\n",
       " 'machine',\n",
       " 'language',\n",
       " 'features',\n",
       " 'matplotlib',\n",
       " 'scaling',\n",
       " 'emerging',\n",
       " 'modeling',\n",
       " 'sciences',\n",
       " 'finance',\n",
       " 'interactive',\n",
       " 'widely',\n",
       " 'preprocessing',\n",
       " 'encoding',\n",
       " 'nlp',\n",
       " 'social',\n",
       " \"python's\",\n",
       " 'pandas',\n",
       " 'extracting',\n",
       " 'new',\n",
       " 'offers',\n",
       " 'decision',\n",
       " 'support',\n",
       " 'business',\n",
       " 'scikit-learn',\n",
       " 'model',\n",
       " 'share',\n",
       " 'applications',\n",
       " 'categorical',\n",
       " 'healthcare',\n",
       " 'regression',\n",
       " 'knowledge',\n",
       " 'plots',\n",
       " 'continuously',\n",
       " 'manipulation',\n",
       " 'provides',\n",
       " 'code',\n",
       " 'range',\n",
       " 'insights',\n",
       " 'science',\n",
       " 'charts',\n",
       " 'data',\n",
       " 'art',\n",
       " 'powerful',\n",
       " 'step',\n",
       " 'jupyter',\n",
       " 'classification',\n",
       " 'help',\n",
       " 'used',\n",
       " 'processing']"
      ]
     },
     "execution_count": 18,
     "metadata": {},
     "output_type": "execute_result"
    }
   ],
   "source": [
    "BOW"
   ]
  },
  {
   "cell_type": "code",
   "execution_count": 19,
   "id": "c9a9cc72",
   "metadata": {},
   "outputs": [
    {
     "data": {
      "text/plain": [
       "array([[0., 0., 0., 0., 0., 0., 0., 0., 0., 0., 0., 0., 1., 0., 0., 0.,\n",
       "        0., 0., 0., 0., 1., 0., 0., 0., 0., 1., 0., 0., 0., 0., 0., 0.,\n",
       "        0., 0., 1., 0., 0., 0., 0., 0., 0., 0., 0., 0., 0., 0., 0., 0.,\n",
       "        0., 0., 0., 0., 0., 0., 0., 0., 0., 0., 0., 0., 0., 0., 0., 1.,\n",
       "        0., 0., 0., 0., 0., 0., 0., 0., 0., 0., 0., 0., 1., 0., 0., 0.,\n",
       "        0., 0., 0., 1., 1., 0., 3., 1., 0., 0., 0., 0., 0., 0., 0.],\n",
       "       [0., 0., 0., 0., 0., 0., 0., 0., 0., 1., 0., 0., 0., 0., 0., 0.,\n",
       "        0., 0., 0., 0., 0., 1., 0., 0., 0., 0., 1., 0., 0., 0., 0., 0.,\n",
       "        1., 0., 1., 1., 0., 0., 0., 0., 0., 0., 0., 0., 0., 0., 0., 0.,\n",
       "        0., 0., 0., 0., 0., 0., 0., 0., 0., 0., 0., 0., 0., 0., 1., 0.,\n",
       "        0., 0., 0., 0., 0., 0., 0., 0., 0., 0., 0., 0., 0., 0., 0., 1.,\n",
       "        0., 0., 0., 0., 1., 0., 2., 0., 0., 0., 0., 0., 0., 0., 0.],\n",
       "       [0., 0., 0., 0., 0., 0., 0., 1., 1., 1., 0., 0., 0., 0., 0., 0.,\n",
       "        0., 1., 0., 0., 0., 0., 1., 1., 1., 0., 0., 0., 0., 0., 0., 0.,\n",
       "        0., 0., 0., 0., 0., 0., 0., 0., 0., 0., 0., 0., 0., 0., 0., 0.,\n",
       "        0., 1., 0., 0., 0., 0., 0., 0., 0., 0., 0., 0., 0., 1., 0., 0.,\n",
       "        0., 0., 0., 0., 0., 0., 0., 0., 0., 0., 0., 0., 0., 1., 0., 0.,\n",
       "        0., 0., 0., 0., 1., 1., 2., 0., 0., 0., 0., 0., 1., 0., 0.],\n",
       "       [0., 0., 0., 0., 1., 0., 0., 0., 0., 0., 0., 1., 0., 0., 0., 0.,\n",
       "        0., 0., 1., 0., 0., 0., 0., 0., 0., 0., 0., 0., 0., 0., 1., 0.,\n",
       "        0., 0., 1., 0., 0., 0., 0., 0., 0., 0., 0., 0., 0., 0., 1., 0.,\n",
       "        0., 0., 0., 0., 0., 0., 0., 0., 0., 0., 0., 0., 0., 0., 0., 0.,\n",
       "        0., 0., 0., 0., 0., 1., 0., 0., 0., 0., 0., 1., 0., 0., 0., 0.,\n",
       "        1., 0., 0., 0., 0., 0., 0., 0., 1., 0., 0., 1., 0., 0., 0.],\n",
       "       [0., 1., 0., 0., 0., 0., 0., 0., 0., 1., 0., 0., 0., 0., 1., 0.,\n",
       "        0., 0., 0., 0., 0., 0., 0., 0., 0., 0., 0., 1., 0., 0., 0., 0.,\n",
       "        0., 1., 0., 0., 0., 0., 1., 0., 1., 0., 0., 0., 0., 0., 0., 1.,\n",
       "        0., 0., 0., 0., 0., 0., 0., 0., 0., 0., 0., 2., 0., 1., 0., 0.,\n",
       "        0., 0., 0., 0., 0., 0., 0., 0., 0., 0., 0., 0., 0., 0., 0., 0.,\n",
       "        0., 0., 0., 0., 1., 0., 1., 0., 0., 0., 0., 0., 0., 0., 1.],\n",
       "       [0., 0., 0., 0., 0., 0., 0., 0., 0., 0., 0., 0., 0., 0., 0., 0.,\n",
       "        0., 1., 0., 0., 0., 0., 0., 0., 0., 0., 1., 0., 0., 1., 0., 0.,\n",
       "        0., 0., 1., 0., 1., 0., 0., 0., 0., 0., 0., 0., 0., 2., 0., 0.,\n",
       "        0., 0., 0., 0., 0., 0., 0., 1., 1., 0., 0., 0., 0., 0., 0., 0.,\n",
       "        0., 0., 0., 1., 0., 0., 0., 1., 0., 0., 0., 0., 0., 0., 0., 0.,\n",
       "        0., 1., 0., 0., 1., 0., 2., 0., 0., 0., 1., 0., 0., 1., 0.],\n",
       "       [0., 0., 0., 0., 1., 0., 0., 0., 0., 0., 0., 0., 0., 0., 0., 0.,\n",
       "        0., 0., 0., 0., 0., 0., 0., 0., 1., 0., 0., 0., 1., 0., 0., 0.,\n",
       "        0., 0., 1., 0., 0., 0., 0., 0., 0., 1., 0., 0., 1., 0., 0., 0.,\n",
       "        1., 0., 1., 0., 0., 0., 0., 0., 0., 1., 1., 0., 0., 0., 0., 0.,\n",
       "        0., 1., 0., 0., 0., 0., 0., 0., 0., 1., 0., 0., 0., 0., 0., 0.,\n",
       "        0., 0., 0., 0., 1., 0., 3., 0., 0., 1., 0., 0., 0., 0., 0.],\n",
       "       [0., 0., 0., 0., 0., 1., 0., 0., 0., 0., 1., 1., 0., 1., 0., 0.,\n",
       "        1., 0., 0., 1., 0., 0., 0., 0., 0., 0., 0., 0., 0., 0., 0., 0.,\n",
       "        1., 0., 1., 0., 0., 0., 0., 1., 0., 0., 1., 1., 0., 0., 1., 0.,\n",
       "        0., 0., 0., 0., 1., 0., 0., 0., 0., 0., 0., 0., 0., 0., 0., 0.,\n",
       "        0., 0., 1., 1., 0., 0., 0., 0., 0., 0., 0., 0., 0., 0., 0., 0.,\n",
       "        0., 0., 0., 0., 0., 0., 0., 0., 0., 0., 0., 0., 0., 0., 0.],\n",
       "       [1., 0., 0., 1., 1., 0., 1., 0., 0., 1., 0., 0., 0., 0., 0., 0.,\n",
       "        0., 0., 0., 0., 0., 0., 0., 0., 0., 0., 1., 0., 0., 0., 0., 1.,\n",
       "        0., 0., 0., 0., 0., 0., 0., 0., 0., 0., 0., 0., 0., 0., 0., 0.,\n",
       "        0., 0., 0., 1., 0., 0., 0., 0., 0., 0., 0., 0., 0., 1., 0., 0.,\n",
       "        1., 0., 0., 1., 0., 0., 1., 0., 0., 0., 0., 0., 0., 0., 1., 0.,\n",
       "        0., 0., 0., 0., 1., 0., 2., 0., 0., 0., 0., 0., 0., 0., 0.],\n",
       "       [0., 0., 1., 0., 0., 0., 0., 0., 0., 0., 0., 0., 0., 0., 0., 1.,\n",
       "        0., 0., 0., 0., 1., 0., 0., 0., 0., 0., 0., 0., 0., 0., 0., 0.,\n",
       "        0., 0., 1., 0., 0., 1., 0., 0., 0., 0., 0., 0., 0., 0., 0., 0.,\n",
       "        0., 0., 0., 0., 0., 1., 1., 0., 0., 0., 0., 0., 1., 0., 0., 0.,\n",
       "        0., 0., 0., 0., 1., 0., 0., 0., 1., 0., 1., 0., 0., 0., 0., 0.,\n",
       "        0., 0., 1., 0., 0., 0., 1., 0., 0., 0., 0., 0., 0., 0., 0.]])"
      ]
     },
     "execution_count": 19,
     "metadata": {},
     "output_type": "execute_result"
    }
   ],
   "source": [
    "# term frequency matrix\n",
    "tf_matrix = np.zeros((len(l), len(BOW)))\n",
    "for i in range(len(l)):\n",
    "    for word in l[i]:\n",
    "        tf_matrix[i, list(BOW).index(word)] += 1\n",
    "tf_matrix"
   ]
  },
  {
   "cell_type": "code",
   "execution_count": 45,
   "id": "6a21a5cf",
   "metadata": {},
   "outputs": [
    {
     "name": "stdout",
     "output_type": "stream",
     "text": [
      "Manhattan distance between Document  1  and  1  is =  0.0\n",
      "Manhattan distance between Document  1  and  2  is =  15.0\n",
      "Manhattan distance between Document  1  and  3  is =  21.0\n",
      "Manhattan distance between Document  1  and  4  is =  21.0\n",
      "Manhattan distance between Document  1  and  5  is =  22.0\n",
      "Manhattan distance between Document  1  and  6  is =  21.0\n",
      "Manhattan distance between Document  1  and  7  is =  19.0\n",
      "Manhattan distance between Document  1  and  8  is =  25.0\n",
      "Manhattan distance between Document  1  and  9  is =  22.0\n",
      "Manhattan distance between Document  1  and  10  is =  19.0\n",
      "Manhattan distance between Document  2  and  1  is =  15.0\n",
      "Manhattan distance between Document  2  and  2  is =  0.0\n",
      "Manhattan distance between Document  2  and  3  is =  18.0\n",
      "Manhattan distance between Document  2  and  4  is =  20.0\n",
      "Manhattan distance between Document  2  and  5  is =  19.0\n",
      "Manhattan distance between Document  2  and  6  is =  18.0\n",
      "Manhattan distance between Document  2  and  7  is =  20.0\n",
      "Manhattan distance between Document  2  and  8  is =  22.0\n",
      "Manhattan distance between Document  2  and  9  is =  17.0\n",
      "Manhattan distance between Document  2  and  10  is =  20.0\n",
      "Manhattan distance between Document  3  and  1  is =  21.0\n",
      "Manhattan distance between Document  3  and  2  is =  18.0\n",
      "Manhattan distance between Document  3  and  3  is =  0.0\n",
      "Manhattan distance between Document  3  and  4  is =  26.0\n",
      "Manhattan distance between Document  3  and  5  is =  21.0\n",
      "Manhattan distance between Document  3  and  6  is =  24.0\n",
      "Manhattan distance between Document  3  and  7  is =  24.0\n",
      "Manhattan distance between Document  3  and  8  is =  30.0\n",
      "Manhattan distance between Document  3  and  9  is =  21.0\n",
      "Manhattan distance between Document  3  and  10  is =  26.0\n",
      "Manhattan distance between Document  4  and  1  is =  21.0\n",
      "Manhattan distance between Document  4  and  2  is =  20.0\n",
      "Manhattan distance between Document  4  and  3  is =  26.0\n",
      "Manhattan distance between Document  4  and  4  is =  0.0\n",
      "Manhattan distance between Document  4  and  5  is =  25.0\n",
      "Manhattan distance between Document  4  and  6  is =  26.0\n",
      "Manhattan distance between Document  4  and  7  is =  24.0\n",
      "Manhattan distance between Document  4  and  8  is =  20.0\n",
      "Manhattan distance between Document  4  and  9  is =  25.0\n",
      "Manhattan distance between Document  4  and  10  is =  22.0\n",
      "Manhattan distance between Document  5  and  1  is =  22.0\n",
      "Manhattan distance between Document  5  and  2  is =  19.0\n",
      "Manhattan distance between Document  5  and  3  is =  21.0\n",
      "Manhattan distance between Document  5  and  4  is =  25.0\n",
      "Manhattan distance between Document  5  and  5  is =  0.0\n",
      "Manhattan distance between Document  5  and  6  is =  27.0\n",
      "Manhattan distance between Document  5  and  7  is =  27.0\n",
      "Manhattan distance between Document  5  and  8  is =  29.0\n",
      "Manhattan distance between Document  5  and  9  is =  22.0\n",
      "Manhattan distance between Document  5  and  10  is =  25.0\n",
      "Manhattan distance between Document  6  and  1  is =  21.0\n",
      "Manhattan distance between Document  6  and  2  is =  18.0\n",
      "Manhattan distance between Document  6  and  3  is =  24.0\n",
      "Manhattan distance between Document  6  and  4  is =  26.0\n",
      "Manhattan distance between Document  6  and  5  is =  27.0\n",
      "Manhattan distance between Document  6  and  6  is =  0.0\n",
      "Manhattan distance between Document  6  and  7  is =  26.0\n",
      "Manhattan distance between Document  6  and  8  is =  28.0\n",
      "Manhattan distance between Document  6  and  9  is =  23.0\n",
      "Manhattan distance between Document  6  and  10  is =  26.0\n",
      "Manhattan distance between Document  7  and  1  is =  19.0\n",
      "Manhattan distance between Document  7  and  2  is =  20.0\n",
      "Manhattan distance between Document  7  and  3  is =  24.0\n",
      "Manhattan distance between Document  7  and  4  is =  24.0\n",
      "Manhattan distance between Document  7  and  5  is =  27.0\n",
      "Manhattan distance between Document  7  and  6  is =  26.0\n",
      "Manhattan distance between Document  7  and  7  is =  0.0\n",
      "Manhattan distance between Document  7  and  8  is =  30.0\n",
      "Manhattan distance between Document  7  and  9  is =  25.0\n",
      "Manhattan distance between Document  7  and  10  is =  26.0\n",
      "Manhattan distance between Document  8  and  1  is =  25.0\n",
      "Manhattan distance between Document  8  and  2  is =  22.0\n",
      "Manhattan distance between Document  8  and  3  is =  30.0\n",
      "Manhattan distance between Document  8  and  4  is =  20.0\n",
      "Manhattan distance between Document  8  and  5  is =  29.0\n",
      "Manhattan distance between Document  8  and  6  is =  28.0\n",
      "Manhattan distance between Document  8  and  7  is =  30.0\n",
      "Manhattan distance between Document  8  and  8  is =  0.0\n",
      "Manhattan distance between Document  8  and  9  is =  29.0\n",
      "Manhattan distance between Document  8  and  10  is =  26.0\n",
      "Manhattan distance between Document  9  and  1  is =  22.0\n",
      "Manhattan distance between Document  9  and  2  is =  17.0\n",
      "Manhattan distance between Document  9  and  3  is =  21.0\n",
      "Manhattan distance between Document  9  and  4  is =  25.0\n",
      "Manhattan distance between Document  9  and  5  is =  22.0\n",
      "Manhattan distance between Document  9  and  6  is =  23.0\n",
      "Manhattan distance between Document  9  and  7  is =  25.0\n",
      "Manhattan distance between Document  9  and  8  is =  29.0\n",
      "Manhattan distance between Document  9  and  9  is =  0.0\n",
      "Manhattan distance between Document  9  and  10  is =  27.0\n",
      "Manhattan distance between Document  10  and  1  is =  19.0\n",
      "Manhattan distance between Document  10  and  2  is =  20.0\n",
      "Manhattan distance between Document  10  and  3  is =  26.0\n",
      "Manhattan distance between Document  10  and  4  is =  22.0\n",
      "Manhattan distance between Document  10  and  5  is =  25.0\n",
      "Manhattan distance between Document  10  and  6  is =  26.0\n",
      "Manhattan distance between Document  10  and  7  is =  26.0\n",
      "Manhattan distance between Document  10  and  8  is =  26.0\n",
      "Manhattan distance between Document  10  and  9  is =  27.0\n",
      "Manhattan distance between Document  10  and  10  is =  0.0\n"
     ]
    }
   ],
   "source": [
    "#Manhattan distance\n",
    "Mtd = [[0 for j in range(10)] for i in range(10)]\n",
    "for i in range(len(l)):\n",
    "    for j in range(len(l)):\n",
    "        Mtd[i][j] = np.sum(np.abs(tf_matrix[i]-tf_matrix[j]))\n",
    "        #print(i,j,Mtd[i][j])\n",
    "        print(\"Manhattan distance between Document \", (i+1),\" and \",(j+1),\" is = \", Mtd[i][j])"
   ]
  },
  {
   "cell_type": "code",
   "execution_count": 44,
   "id": "58cf73bb",
   "metadata": {},
   "outputs": [
    {
     "name": "stdout",
     "output_type": "stream",
     "text": [
      "Document [2] is closet to Document 1 the distance is  15.0  by Manhattan Distance\n"
     ]
    }
   ],
   "source": [
    "mind = 1000000000000000000\n",
    "dt = 0 \n",
    "m=[]\n",
    "for j in range(10):\n",
    "        if(j!=0):\n",
    "            if(Mtd[0][j]<mind):\n",
    "                mind = Mtd[0][j]\n",
    "                dt = j\n",
    "for j in range(10):\n",
    "        if(j!=0):\n",
    "            if(Mtd[0][j]==mind):\n",
    "                m.append(j+1)\n",
    "print(\"Document\",m,\"is closet to Document 1 the distance is \",mind,\" by Manhattan Distance\")\n",
    "            "
   ]
  },
  {
   "cell_type": "code",
   "execution_count": 46,
   "id": "e596f789",
   "metadata": {},
   "outputs": [
    {
     "name": "stdout",
     "output_type": "stream",
     "text": [
      "Euclidean distance between Document  1  and  1  is =  0.0\n",
      "Euclidean distance between Document  1  and  2  is =  3.872983346207417\n",
      "Euclidean distance between Document  1  and  3  is =  4.58257569495584\n",
      "Euclidean distance between Document  1  and  4  is =  5.196152422706632\n",
      "Euclidean distance between Document  1  and  5  is =  5.0990195135927845\n",
      "Euclidean distance between Document  1  and  6  is =  4.795831523312719\n",
      "Euclidean distance between Document  1  and  7  is =  4.358898943540674\n",
      "Euclidean distance between Document  1  and  8  is =  5.5677643628300215\n",
      "Euclidean distance between Document  1  and  9  is =  4.69041575982343\n",
      "Euclidean distance between Document  1  and  10  is =  4.58257569495584\n",
      "Euclidean distance between Document  2  and  1  is =  3.872983346207417\n",
      "Euclidean distance between Document  2  and  2  is =  0.0\n",
      "Euclidean distance between Document  2  and  3  is =  4.242640687119285\n",
      "Euclidean distance between Document  2  and  4  is =  4.69041575982343\n",
      "Euclidean distance between Document  2  and  5  is =  4.58257569495584\n",
      "Euclidean distance between Document  2  and  6  is =  4.47213595499958\n",
      "Euclidean distance between Document  2  and  7  is =  4.47213595499958\n",
      "Euclidean distance between Document  2  and  8  is =  4.898979485566356\n",
      "Euclidean distance between Document  2  and  9  is =  4.123105625617661\n",
      "Euclidean distance between Document  2  and  10  is =  4.47213595499958\n",
      "Euclidean distance between Document  3  and  1  is =  4.58257569495584\n",
      "Euclidean distance between Document  3  and  2  is =  4.242640687119285\n",
      "Euclidean distance between Document  3  and  3  is =  0.0\n",
      "Euclidean distance between Document  3  and  4  is =  5.291502622129181\n",
      "Euclidean distance between Document  3  and  5  is =  4.795831523312719\n",
      "Euclidean distance between Document  3  and  6  is =  5.0990195135927845\n",
      "Euclidean distance between Document  3  and  7  is =  4.898979485566356\n",
      "Euclidean distance between Document  3  and  8  is =  5.656854249492381\n",
      "Euclidean distance between Document  3  and  9  is =  4.58257569495584\n",
      "Euclidean distance between Document  3  and  10  is =  5.0990195135927845\n",
      "Euclidean distance between Document  4  and  1  is =  5.196152422706632\n",
      "Euclidean distance between Document  4  and  2  is =  4.69041575982343\n",
      "Euclidean distance between Document  4  and  3  is =  5.291502622129181\n",
      "Euclidean distance between Document  4  and  4  is =  0.0\n",
      "Euclidean distance between Document  4  and  5  is =  5.196152422706632\n",
      "Euclidean distance between Document  4  and  6  is =  5.477225575051661\n",
      "Euclidean distance between Document  4  and  7  is =  5.477225575051661\n",
      "Euclidean distance between Document  4  and  8  is =  4.47213595499958\n",
      "Euclidean distance between Document  4  and  9  is =  5.196152422706632\n",
      "Euclidean distance between Document  4  and  10  is =  4.69041575982343\n",
      "Euclidean distance between Document  5  and  1  is =  5.0990195135927845\n",
      "Euclidean distance between Document  5  and  2  is =  4.58257569495584\n",
      "Euclidean distance between Document  5  and  3  is =  4.795831523312719\n",
      "Euclidean distance between Document  5  and  4  is =  5.196152422706632\n",
      "Euclidean distance between Document  5  and  5  is =  0.0\n",
      "Euclidean distance between Document  5  and  6  is =  5.5677643628300215\n",
      "Euclidean distance between Document  5  and  7  is =  5.5677643628300215\n",
      "Euclidean distance between Document  5  and  8  is =  5.5677643628300215\n",
      "Euclidean distance between Document  5  and  9  is =  4.898979485566356\n",
      "Euclidean distance between Document  5  and  10  is =  5.196152422706632\n",
      "Euclidean distance between Document  6  and  1  is =  4.795831523312719\n",
      "Euclidean distance between Document  6  and  2  is =  4.47213595499958\n",
      "Euclidean distance between Document  6  and  3  is =  5.0990195135927845\n",
      "Euclidean distance between Document  6  and  4  is =  5.477225575051661\n",
      "Euclidean distance between Document  6  and  5  is =  5.5677643628300215\n",
      "Euclidean distance between Document  6  and  6  is =  0.0\n",
      "Euclidean distance between Document  6  and  7  is =  5.291502622129181\n",
      "Euclidean distance between Document  6  and  8  is =  5.656854249492381\n",
      "Euclidean distance between Document  6  and  9  is =  5.0\n",
      "Euclidean distance between Document  6  and  10  is =  5.291502622129181\n",
      "Euclidean distance between Document  7  and  1  is =  4.358898943540674\n",
      "Euclidean distance between Document  7  and  2  is =  4.47213595499958\n",
      "Euclidean distance between Document  7  and  3  is =  4.898979485566356\n",
      "Euclidean distance between Document  7  and  4  is =  5.477225575051661\n",
      "Euclidean distance between Document  7  and  5  is =  5.5677643628300215\n",
      "Euclidean distance between Document  7  and  6  is =  5.291502622129181\n",
      "Euclidean distance between Document  7  and  7  is =  0.0\n",
      "Euclidean distance between Document  7  and  8  is =  6.0\n",
      "Euclidean distance between Document  7  and  9  is =  5.0\n",
      "Euclidean distance between Document  7  and  10  is =  5.291502622129181\n",
      "Euclidean distance between Document  8  and  1  is =  5.5677643628300215\n",
      "Euclidean distance between Document  8  and  2  is =  4.898979485566356\n",
      "Euclidean distance between Document  8  and  3  is =  5.656854249492381\n",
      "Euclidean distance between Document  8  and  4  is =  4.47213595499958\n",
      "Euclidean distance between Document  8  and  5  is =  5.5677643628300215\n",
      "Euclidean distance between Document  8  and  6  is =  5.656854249492381\n",
      "Euclidean distance between Document  8  and  7  is =  6.0\n",
      "Euclidean distance between Document  8  and  8  is =  0.0\n",
      "Euclidean distance between Document  8  and  9  is =  5.5677643628300215\n",
      "Euclidean distance between Document  8  and  10  is =  5.0990195135927845\n",
      "Euclidean distance between Document  9  and  1  is =  4.69041575982343\n",
      "Euclidean distance between Document  9  and  2  is =  4.123105625617661\n",
      "Euclidean distance between Document  9  and  3  is =  4.58257569495584\n",
      "Euclidean distance between Document  9  and  4  is =  5.196152422706632\n",
      "Euclidean distance between Document  9  and  5  is =  4.898979485566356\n",
      "Euclidean distance between Document  9  and  6  is =  5.0\n",
      "Euclidean distance between Document  9  and  7  is =  5.0\n",
      "Euclidean distance between Document  9  and  8  is =  5.5677643628300215\n",
      "Euclidean distance between Document  9  and  9  is =  0.0\n",
      "Euclidean distance between Document  9  and  10  is =  5.196152422706632\n",
      "Euclidean distance between Document  10  and  1  is =  4.58257569495584\n",
      "Euclidean distance between Document  10  and  2  is =  4.47213595499958\n",
      "Euclidean distance between Document  10  and  3  is =  5.0990195135927845\n",
      "Euclidean distance between Document  10  and  4  is =  4.69041575982343\n",
      "Euclidean distance between Document  10  and  5  is =  5.196152422706632\n",
      "Euclidean distance between Document  10  and  6  is =  5.291502622129181\n",
      "Euclidean distance between Document  10  and  7  is =  5.291502622129181\n",
      "Euclidean distance between Document  10  and  8  is =  5.0990195135927845\n",
      "Euclidean distance between Document  10  and  9  is =  5.196152422706632\n",
      "Euclidean distance between Document  10  and  10  is =  0.0\n"
     ]
    }
   ],
   "source": [
    "# Euclidean distance\n",
    "Etd = [[0 for j in range(10)] for i in range(10)]\n",
    "for i in range(len(l)):\n",
    "    for j in range(len(l)):\n",
    "        squared_diff = np.square(tf_matrix[i] - tf_matrix[j])\n",
    "        sum_squared_diff = np.sum(squared_diff)\n",
    "        distance = np.sqrt(sum_squared_diff)\n",
    "        Etd[i][j] = distance\n",
    "        print(\"Euclidean distance between Document \", i+1,\" and \",j+1,\" is = \",distance)"
   ]
  },
  {
   "cell_type": "code",
   "execution_count": 47,
   "id": "bb967827",
   "metadata": {},
   "outputs": [
    {
     "name": "stdout",
     "output_type": "stream",
     "text": [
      "Document [2] is closet to Document 1 the distance is  3.872983346207417 by Euclidean Distance\n"
     ]
    }
   ],
   "source": [
    "mind = 1000000000000000000\n",
    "m = []\n",
    "dt = 0 \n",
    "for j in range(10):\n",
    "        if(j!=0):\n",
    "            if(Etd[0][j]<mind):\n",
    "                mind = Etd[0][j]\n",
    "                dt = j\n",
    "for j in range(10):\n",
    "        if(j!=0):\n",
    "            if(Etd[0][j]==mind):\n",
    "                m.append(j+1)\n",
    "print(\"Document\",m,\"is closet to Document 1 the distance is \",mind,\"by Euclidean Distance\")"
   ]
  },
  {
   "cell_type": "code",
   "execution_count": 48,
   "id": "b4f4eefc",
   "metadata": {},
   "outputs": [
    {
     "name": "stdout",
     "output_type": "stream",
     "text": [
      "Cosine Similarity between Document  1  and  1  is =  -2.220446049250313e-16\n",
      "Cosine Similarity between Document  1  and  2  is =  0.4770236396315092\n",
      "Cosine Similarity between Document  1  and  3  is =  0.5998366346674794\n",
      "Cosine Similarity between Document  1  and  4  is =  0.9289330945481299\n",
      "Cosine Similarity between Document  1  and  5  is =  0.7642977396044841\n",
      "Cosine Similarity between Document  1  and  6  is =  0.5885244001010882\n",
      "Cosine Similarity between Document  1  and  7  is =  0.4593794940987104\n",
      "Cosine Similarity between Document  1  and  8  is =  0.9391419380549816\n",
      "Cosine Similarity between Document  1  and  9  is =  0.611111111111111\n",
      "Cosine Similarity between Document  1  and  10  is =  0.6731397747696932\n",
      "Cosine Similarity between Document  2  and  1  is =  0.4770236396315092\n",
      "Cosine Similarity between Document  2  and  2  is =  -2.220446049250313e-16\n",
      "Cosine Similarity between Document  2  and  3  is =  0.5963963236022125\n",
      "Cosine Similarity between Document  2  and  4  is =  0.9163757989992909\n",
      "Cosine Similarity between Document  2  and  5  is =  0.7226499018873854\n",
      "Cosine Similarity between Document  2  and  6  is =  0.5763407271318383\n",
      "Cosine Similarity between Document  2  and  7  is =  0.5373480544270077\n",
      "Cosine Similarity between Document  2  and  8  is =  0.8567770251921134\n",
      "Cosine Similarity between Document  2  and  9  is =  0.5423956846775705\n",
      "Cosine Similarity between Document  2  and  10  is =  0.7692307692307692\n",
      "Cosine Similarity between Document  3  and  1  is =  0.5998366346674794\n",
      "Cosine Similarity between Document  3  and  2  is =  0.5963963236022125\n",
      "Cosine Similarity between Document  3  and  3  is =  0.0\n",
      "Cosine Similarity between Document  3  and  4  is =  1.0\n",
      "Cosine Similarity between Document  3  and  5  is =  0.6968304687045838\n",
      "Cosine Similarity between Document  3  and  6  is =  0.6824463255850222\n",
      "Cosine Similarity between Document  3  and  7  is =  0.595422610060661\n",
      "Cosine Similarity between Document  3  and  8  is =  1.0\n",
      "Cosine Similarity between Document  3  and  9  is =  0.5998366346674794\n",
      "Cosine Similarity between Document  3  and  10  is =  0.8654654412007374\n",
      "Cosine Similarity between Document  4  and  1  is =  0.9289330945481299\n",
      "Cosine Similarity between Document  4  and  2  is =  0.9163757989992909\n",
      "Cosine Similarity between Document  4  and  3  is =  1.0\n",
      "Cosine Similarity between Document  4  and  4  is =  0.0\n",
      "Cosine Similarity between Document  4  and  5  is =  1.0\n",
      "Cosine Similarity between Document  4  and  6  is =  0.9342048305040231\n",
      "Cosine Similarity between Document  4  and  7  is =  0.8742610773076137\n",
      "Cosine Similarity between Document  4  and  8  is =  0.7664503167515431\n",
      "Cosine Similarity between Document  4  and  9  is =  0.9289330945481299\n",
      "Cosine Similarity between Document  4  and  10  is =  0.9163757989992909\n",
      "Cosine Similarity between Document  5  and  1  is =  0.7642977396044841\n",
      "Cosine Similarity between Document  5  and  2  is =  0.7226499018873854\n",
      "Cosine Similarity between Document  5  and  3  is =  0.6968304687045838\n",
      "Cosine Similarity between Document  5  and  4  is =  1.0\n",
      "Cosine Similarity between Document  5  and  5  is =  0.0\n",
      "Cosine Similarity between Document  5  and  6  is =  0.8363365823230057\n",
      "Cosine Similarity between Document  5  and  7  is =  0.7914855859429253\n",
      "Cosine Similarity between Document  5  and  8  is =  1.0\n",
      "Cosine Similarity between Document  5  and  9  is =  0.7053721745056052\n",
      "Cosine Similarity between Document  5  and  10  is =  0.9306624754718463\n",
      "Cosine Similarity between Document  6  and  1  is =  0.5885244001010882\n",
      "Cosine Similarity between Document  6  and  2  is =  0.5763407271318383\n",
      "Cosine Similarity between Document  6  and  3  is =  0.6824463255850222\n",
      "Cosine Similarity between Document  6  and  4  is =  0.9342048305040231\n",
      "Cosine Similarity between Document  6  and  5  is =  0.8363365823230057\n",
      "Cosine Similarity between Document  6  and  6  is =  0.0\n",
      "Cosine Similarity between Document  6  and  7  is =  0.6359873958453679\n",
      "Cosine Similarity between Document  6  and  8  is =  0.8873127660361978\n",
      "Cosine Similarity between Document  6  and  9  is =  0.6399588500884521\n",
      "Cosine Similarity between Document  6  and  10  is =  0.8184317401993593\n",
      "Cosine Similarity between Document  7  and  1  is =  0.4593794940987104\n",
      "Cosine Similarity between Document  7  and  2  is =  0.5373480544270077\n",
      "Cosine Similarity between Document  7  and  3  is =  0.595422610060661\n",
      "Cosine Similarity between Document  7  and  4  is =  0.8742610773076137\n",
      "Cosine Similarity between Document  7  and  5  is =  0.7914855859429253\n",
      "Cosine Similarity between Document  7  and  6  is =  0.6359873958453679\n",
      "Cosine Similarity between Document  7  and  7  is =  -2.220446049250313e-16\n",
      "Cosine Similarity between Document  7  and  8  is =  0.9461618097941834\n",
      "Cosine Similarity between Document  7  and  9  is =  0.6068214502536076\n",
      "Cosine Similarity between Document  7  and  10  is =  0.7686740272135039\n",
      "Cosine Similarity between Document  8  and  1  is =  0.9391419380549816\n",
      "Cosine Similarity between Document  8  and  2  is =  0.8567770251921134\n",
      "Cosine Similarity between Document  8  and  3  is =  1.0\n",
      "Cosine Similarity between Document  8  and  4  is =  0.7664503167515431\n",
      "Cosine Similarity between Document  8  and  5  is =  1.0\n",
      "Cosine Similarity between Document  8  and  6  is =  0.8873127660361978\n",
      "Cosine Similarity between Document  8  and  7  is =  0.9461618097941834\n",
      "Cosine Similarity between Document  8  and  8  is =  1.1102230246251565e-16\n",
      "Cosine Similarity between Document  8  and  9  is =  0.9391419380549816\n",
      "Cosine Similarity between Document  8  and  10  is =  0.9283885125960567\n",
      "Cosine Similarity between Document  9  and  1  is =  0.611111111111111\n",
      "Cosine Similarity between Document  9  and  2  is =  0.5423956846775705\n",
      "Cosine Similarity between Document  9  and  3  is =  0.5998366346674794\n",
      "Cosine Similarity between Document  9  and  4  is =  0.9289330945481299\n",
      "Cosine Similarity between Document  9  and  5  is =  0.7053721745056052\n",
      "Cosine Similarity between Document  9  and  6  is =  0.6399588500884521\n",
      "Cosine Similarity between Document  9  and  7  is =  0.6068214502536076\n",
      "Cosine Similarity between Document  9  and  8  is =  0.9391419380549816\n",
      "Cosine Similarity between Document  9  and  9  is =  -2.220446049250313e-16\n",
      "Cosine Similarity between Document  9  and  10  is =  0.8692559099078773\n",
      "Cosine Similarity between Document  10  and  1  is =  0.6731397747696932\n",
      "Cosine Similarity between Document  10  and  2  is =  0.7692307692307692\n",
      "Cosine Similarity between Document  10  and  3  is =  0.8654654412007374\n",
      "Cosine Similarity between Document  10  and  4  is =  0.9163757989992909\n",
      "Cosine Similarity between Document  10  and  5  is =  0.9306624754718463\n",
      "Cosine Similarity between Document  10  and  6  is =  0.8184317401993593\n",
      "Cosine Similarity between Document  10  and  7  is =  0.7686740272135039\n",
      "Cosine Similarity between Document  10  and  8  is =  0.9283885125960567\n",
      "Cosine Similarity between Document  10  and  9  is =  0.8692559099078773\n",
      "Cosine Similarity between Document  10  and  10  is =  -2.220446049250313e-16\n"
     ]
    }
   ],
   "source": [
    "# Cosine Similarity\n",
    "Csd = [[0 for j in range(10)] for i in range(10)]\n",
    "for i in range(len(l)):\n",
    "    for j in range(len(l)):\n",
    "        dot_product = np.dot(tf_matrix[i],tf_matrix[j])\n",
    "        magnitude1 = np.sqrt(np.dot(tf_matrix[i],tf_matrix[i]))\n",
    "        magnitude2 = np.sqrt(np.dot(tf_matrix[j],tf_matrix[j]))\n",
    "        similarity = dot_product / (magnitude1 * magnitude2)\n",
    "        Csd[i][j] = 1-similarity\n",
    "        print(\"Cosine Similarity between Document \", i+1,\" and \",j+1,\" is = \",(1-similarity))"
   ]
  },
  {
   "cell_type": "code",
   "execution_count": 49,
   "id": "3c5f835d",
   "metadata": {},
   "outputs": [
    {
     "name": "stdout",
     "output_type": "stream",
     "text": [
      "Document [7] is closet to Document 1 the distance is  0.4593794940987104 by Cosine Similarity\n"
     ]
    }
   ],
   "source": [
    "mind = 1000000000000000000\n",
    "dt = 0 \n",
    "m=[]\n",
    "for j in range(10):\n",
    "        if(j!=0):\n",
    "            if(Csd[0][j]<mind):\n",
    "                mind = Csd[0][j]\n",
    "                dt = j\n",
    "for j in range(10):\n",
    "        if(j!=0):\n",
    "            if(Csd[0][j]==mind):\n",
    "                m.append(j+1)\n",
    "print(\"Document\",m,\"is closet to Document 1 the distance is \",mind,\"by Cosine Similarity\")"
   ]
  },
  {
   "cell_type": "markdown",
   "id": "a6038f79",
   "metadata": {},
   "source": [
    "# Question 3"
   ]
  },
  {
   "cell_type": "code",
   "execution_count": 26,
   "id": "134a043e",
   "metadata": {},
   "outputs": [],
   "source": [
    "import numpy as np"
   ]
  },
  {
   "cell_type": "code",
   "execution_count": 27,
   "id": "f0343d36",
   "metadata": {},
   "outputs": [],
   "source": [
    "from sklearn.datasets import load_breast_cancer\n",
    "cancer = load_breast_cancer()"
   ]
  },
  {
   "cell_type": "code",
   "execution_count": 28,
   "id": "4bf4f620",
   "metadata": {},
   "outputs": [
    {
     "data": {
      "text/plain": [
       "array([[ 3.86270826e+00, -8.90964851e+00,  3.08309666e+01, ...,\n",
       "         1.50793777e-01,  1.70024429e-01,  3.49541828e-02],\n",
       "       [ 6.44270826e+00, -1.51964851e+00,  4.09309666e+01, ...,\n",
       "         7.13937768e-02, -1.50755712e-02,  5.07418278e-03],\n",
       "       [ 5.56270826e+00,  1.96035149e+00,  3.80309666e+01, ...,\n",
       "         1.28393777e-01,  7.12244288e-02,  3.63418278e-03],\n",
       "       ...,\n",
       "       [ 2.47270826e+00,  8.79035149e+00,  1.63309666e+01, ...,\n",
       "         2.71937768e-02, -6.82755712e-02, -5.74581722e-03],\n",
       "       [ 6.47270826e+00,  1.00403515e+01,  4.81309666e+01, ...,\n",
       "         1.50393777e-01,  1.18624429e-01,  4.00541828e-02],\n",
       "       [-6.36729174e+00,  5.25035149e+00, -4.40490334e+01, ...,\n",
       "        -1.14606223e-01, -2.97557118e-03, -1.35558172e-02]])"
      ]
     },
     "execution_count": 28,
     "metadata": {},
     "output_type": "execute_result"
    }
   ],
   "source": [
    "#### 3.a\n",
    "# finding the mean-centered dataset:\n",
    "data = cancer.data\n",
    "mean_center_data = data - np.mean(data,axis=0)\n",
    "mean_center_data"
   ]
  },
  {
   "cell_type": "code",
   "execution_count": 29,
   "id": "7f72295f",
   "metadata": {},
   "outputs": [],
   "source": [
    "##### 3.b\n",
    "#finding the eigen-valueFirst s annd eigen-vectors of covarience matrix\n",
    "cov_mean_center_data = np.cov(mean_center_data,rowvar=False)"
   ]
  },
  {
   "cell_type": "code",
   "execution_count": 30,
   "id": "81593170",
   "metadata": {},
   "outputs": [],
   "source": [
    "##### 3.c\n",
    "import scipy.linalg as la\n",
    "eigenvalues, eigenvectors = la.eig(cov_mean_center_data)"
   ]
  },
  {
   "cell_type": "code",
   "execution_count": 31,
   "id": "962a995c",
   "metadata": {},
   "outputs": [
    {
     "data": {
      "text/plain": [
       "array([4.43782605e+05+0.j, 7.31010006e+03+0.j, 7.03833742e+02+0.j,\n",
       "       5.46487379e+01+0.j, 3.98900178e+01+0.j, 3.00458768e+00+0.j,\n",
       "       1.81533030e+00+0.j, 3.71466740e-01+0.j, 1.55513547e-01+0.j,\n",
       "       8.40612196e-02+0.j, 3.16089533e-02+0.j, 7.49736514e-03+0.j,\n",
       "       3.16165652e-03+0.j, 2.16150395e-03+0.j, 1.32653879e-03+0.j,\n",
       "       6.40269304e-04+0.j, 3.74883320e-04+0.j, 2.35169626e-04+0.j,\n",
       "       1.84583467e-04+0.j, 1.64180064e-04+0.j, 7.81102011e-05+0.j,\n",
       "       5.76111660e-05+0.j, 3.49172775e-05+0.j, 2.83952689e-05+0.j,\n",
       "       1.61463677e-05+0.j, 1.24902419e-05+0.j, 7.01997261e-07+0.j,\n",
       "       3.68048171e-06+0.j, 2.84790425e-06+0.j, 2.00491564e-06+0.j])"
      ]
     },
     "execution_count": 31,
     "metadata": {},
     "output_type": "execute_result"
    }
   ],
   "source": [
    "eigenvalues"
   ]
  },
  {
   "cell_type": "code",
   "execution_count": 32,
   "id": "cac78951",
   "metadata": {},
   "outputs": [
    {
     "data": {
      "text/plain": [
       "array([[ 5.08623202e-03,  9.28705650e-03, -1.23425821e-02,\n",
       "        -3.42380473e-02, -3.54561138e-02, -1.31213101e-01,\n",
       "         3.35131912e-02,  7.54924585e-02, -3.50549264e-01,\n",
       "        -1.39559852e-01,  4.19346972e-01, -7.35141931e-01,\n",
       "        -2.18087182e-01, -8.10260113e-02, -1.37865559e-01,\n",
       "         1.41957144e-01,  4.42129324e-02,  8.97292328e-02,\n",
       "        -2.10057742e-02, -8.01074429e-02, -5.94747776e-02,\n",
       "        -8.72363409e-03,  4.57847381e-03,  2.82894830e-02,\n",
       "         3.59617411e-03,  1.60336173e-03, -6.48447162e-04,\n",
       "         2.79341068e-03, -3.25869730e-03,  5.12865809e-04],\n",
       "       [ 2.19657026e-03, -2.88160658e-03, -6.35497857e-03,\n",
       "        -3.62415111e-01,  4.43187450e-01, -2.13486089e-01,\n",
       "        -7.84253475e-01,  6.87405638e-02,  4.08376429e-03,\n",
       "        -7.66679112e-02, -2.90168453e-02,  1.77040388e-03,\n",
       "        -4.23058843e-03, -1.98471260e-03,  7.07543943e-03,\n",
       "         3.71772553e-03, -1.74411881e-03, -1.41458884e-04,\n",
       "        -1.24960485e-03,  2.12853660e-04,  5.08486619e-04,\n",
       "         3.25522689e-04, -5.70803677e-04,  7.33059898e-05,\n",
       "         4.32289948e-04,  6.85637302e-04, -4.67664637e-06,\n",
       "         2.03286434e-04, -1.08812487e-04,  1.28702530e-04],\n",
       "       [ 3.50763298e-02,  6.27480827e-02, -7.16694814e-02,\n",
       "        -3.29281417e-01, -3.13382893e-01, -8.40324225e-01,\n",
       "         1.89074737e-01, -8.39642267e-02,  1.32828034e-01,\n",
       "         8.92113884e-02, -2.68885270e-03,  8.17809788e-02,\n",
       "         2.51180394e-02,  5.22865768e-03,  1.34434455e-02,\n",
       "        -2.06841238e-02, -1.08282412e-02, -1.37775702e-02,\n",
       "         6.16356938e-04,  1.09397982e-02,  1.00150532e-02,\n",
       "         3.17936985e-03, -1.25149830e-03, -3.58436087e-03,\n",
       "        -3.07763932e-04, -1.33993328e-04,  1.53201140e-04,\n",
       "         1.48499782e-04,  5.92481499e-04, -2.82547547e-04],\n",
       "       [ 5.16826469e-01,  8.51823720e-01, -2.78944181e-02,\n",
       "         3.94122494e-02,  4.60378117e-02,  5.23468101e-02,\n",
       "        -7.33787337e-03,  3.00992471e-03, -3.82916116e-03,\n",
       "        -1.95571374e-03, -3.44514452e-03,  1.46297165e-03,\n",
       "         2.00988446e-04,  3.38365236e-04,  1.89595169e-04,\n",
       "        -7.16236305e-05,  1.33246661e-04,  1.13279338e-06,\n",
       "         1.20299753e-04,  1.22408810e-04, -6.72130539e-05,\n",
       "        -8.61054786e-05,  8.95193307e-06, -2.64959224e-05,\n",
       "        -1.83005653e-05,  6.11786891e-06, -1.78631233e-06,\n",
       "        -2.79755999e-05, -2.69334809e-06,  1.30371539e-05],\n",
       "       [ 4.23694535e-06, -1.48194356e-05,  7.26596827e-05,\n",
       "        -3.44153009e-04, -5.79019359e-04, -4.06502430e-04,\n",
       "         1.60796958e-03, -3.43658580e-03,  8.22698130e-03,\n",
       "         4.44685266e-03, -2.91369356e-02,  4.63391435e-02,\n",
       "        -5.25266400e-03, -3.61161370e-02, -5.37159784e-02,\n",
       "         2.44151203e-01, -1.30030608e-01,  3.06212225e-01,\n",
       "        -1.97107021e-01,  6.49458801e-02, -5.05875321e-02,\n",
       "        -1.23800316e-01, -5.76678236e-02, -6.84974204e-01,\n",
       "        -4.70763997e-01,  2.33739581e-01, -2.95544130e-03,\n",
       "        -4.23689945e-02, -4.43105873e-02, -9.43925292e-02],\n",
       "       [ 4.05260047e-05, -2.68862249e-06,  1.01754350e-04,\n",
       "        -3.00489873e-03, -2.52639926e-03, -1.01527758e-03,\n",
       "         2.77107786e-04, -1.55731486e-02,  5.63148308e-02,\n",
       "         2.99475404e-02, -1.16711657e-01,  9.44692077e-02,\n",
       "        -8.77581594e-02,  2.54306035e-02, -9.61467981e-02,\n",
       "         1.73132652e-01,  1.80413129e-01,  2.87099573e-01,\n",
       "        -5.53153375e-02,  4.29470256e-02, -7.86476447e-01,\n",
       "        -3.07516380e-01, -6.81084244e-02,  2.47366571e-01,\n",
       "         1.12910548e-01, -5.64508616e-04, -1.31734821e-02,\n",
       "        -4.47732652e-02, -1.08470081e-01, -6.81916699e-03],\n",
       "       [ 8.19399539e-05,  7.51419574e-05,  2.65989729e-04,\n",
       "        -3.40779110e-03, -2.19520726e-03,  2.75600070e-04,\n",
       "         1.02365525e-03, -1.92512587e-02,  7.02297025e-02,\n",
       "         2.79441150e-02, -1.85699905e-01, -3.35666920e-02,\n",
       "         2.24378306e-01, -1.28761314e-01, -1.06775624e-01,\n",
       "         1.63916071e-01,  4.32652559e-01,  1.99451087e-01,\n",
       "        -4.20063482e-02, -6.67235914e-01,  2.07298286e-01,\n",
       "         6.74748546e-02, -9.75431969e-02,  2.21208940e-01,\n",
       "        -2.46083834e-01,  1.07297993e-01,  4.01346519e-03,\n",
       "        -2.87280747e-02, -7.89825836e-03,  1.44289058e-02],\n",
       "       [ 4.77807775e-05,  4.63501038e-05,  3.60471764e-05,\n",
       "        -1.24725032e-03, -1.13196737e-03, -5.76346878e-04,\n",
       "         9.05454729e-04, -9.07295722e-03,  1.92498100e-02,\n",
       "         1.04362500e-02, -5.77209423e-02,  4.75382102e-02,\n",
       "         4.04419791e-02, -5.48374336e-02, -7.50229010e-02,\n",
       "         3.11870436e-01,  3.88939443e-02, -1.38388516e-02,\n",
       "         4.44765528e-02, -3.28925155e-01, -1.95295923e-02,\n",
       "        -9.94859922e-03,  3.70822357e-01, -4.61447929e-01,\n",
       "         6.06124800e-01, -2.34238246e-01, -4.22724702e-03,\n",
       "         2.51468694e-02,  1.74453235e-02,  1.73481243e-02],\n",
       "       [ 7.07804332e-06, -2.52430431e-05,  1.41290958e-04,\n",
       "        -9.66809714e-04, -9.37014169e-04, -1.79444495e-04,\n",
       "         5.98298140e-04, -9.14981253e-03,  1.49895864e-02,\n",
       "         8.27800166e-03, -5.17276491e-02,  5.52351985e-02,\n",
       "        -1.15113362e-01, -3.26359052e-01, -5.24186368e-02,\n",
       "         9.20311012e-02,  2.16862037e-02,  4.38304941e-01,\n",
       "         7.63628284e-01,  2.22382756e-01,  1.59737119e-01,\n",
       "         2.28284660e-02,  2.75978831e-02,  2.89096396e-02,\n",
       "        -3.79117865e-02, -9.10728702e-02,  2.19542355e-03,\n",
       "         1.73524458e-02, -1.30715896e-03,  8.82902913e-03],\n",
       "       [-2.62155251e-06, -1.61197148e-05,  5.06376971e-05,\n",
       "        -1.99194796e-04, -2.07028041e-04,  2.19983885e-04,\n",
       "        -4.25619565e-05, -3.00903313e-03,  7.63859418e-03,\n",
       "         4.54280517e-03, -1.92137160e-02,  1.52406056e-02,\n",
       "        -9.03812811e-03,  2.39053134e-03, -1.31995161e-02,\n",
       "         3.65397500e-02,  3.76425779e-02,  8.09957805e-02,\n",
       "        -4.40913636e-02,  2.33171053e-02, -1.76680619e-01,\n",
       "         2.04533392e-01, -1.20861421e-02, -1.34513145e-02,\n",
       "        -6.37956993e-02, -2.70861187e-02,  6.13701892e-02,\n",
       "         3.36239624e-01,  8.88814613e-01,  4.74686275e-02],\n",
       "       [ 3.13742507e-04, -5.38692831e-05,  6.06156709e-03,\n",
       "        -4.08618843e-03, -2.93386180e-03, -8.45585552e-04,\n",
       "        -1.53826412e-02, -8.41264091e-02, -9.15127909e-02,\n",
       "         3.22073955e-02, -1.05998470e-01,  6.42159672e-02,\n",
       "         9.66326953e-02, -1.46435306e-01, -9.24496275e-01,\n",
       "        -1.75147665e-01, -1.64246809e-01, -1.46255624e-01,\n",
       "        -2.28731804e-02,  4.39284077e-02, -1.13499143e-02,\n",
       "         1.42505916e-02, -1.66061175e-02,  8.00696324e-03,\n",
       "        -5.48812336e-03,  1.02803829e-02,  6.51778391e-03,\n",
       "         3.54107942e-03,  2.08214818e-03,  3.63257185e-03],\n",
       "       [-6.50984008e-05,  3.48370414e-04,  6.23377635e-03,\n",
       "        -2.26398666e-02,  3.75434531e-02, -1.24013980e-02,\n",
       "         6.66867308e-02, -5.87281487e-01,  1.62432584e-02,\n",
       "        -7.91295671e-01, -1.40864382e-01,  4.12379900e-03,\n",
       "        -2.27283852e-02,  9.85458035e-03,  3.78188038e-02,\n",
       "         4.74183050e-03, -9.58819754e-03, -6.12757296e-03,\n",
       "        -2.36191575e-03,  3.20684477e-03,  2.52359539e-04,\n",
       "         1.32642700e-03, -4.48926295e-03,  1.98785626e-03,\n",
       "         3.36786194e-03,  4.05065873e-03,  8.77127241e-05,\n",
       "         3.89325162e-04, -4.16851133e-04,  4.72658847e-04],\n",
       "       [ 2.23634150e-03,  8.19640791e-04,  4.38560369e-02,\n",
       "        -4.98565303e-02, -3.57275320e-02,  9.48056397e-02,\n",
       "        -1.48548561e-01, -7.77894165e-01, -1.90207008e-01,\n",
       "         5.48501632e-01,  8.77215348e-02, -6.76048261e-02,\n",
       "        -2.63044655e-02,  1.39810594e-02,  8.57009464e-02,\n",
       "         1.64085616e-02,  2.53430874e-03,  1.47257226e-02,\n",
       "        -1.30277683e-03, -9.11272542e-03,  4.16204243e-03,\n",
       "         2.11743590e-04, -1.25850374e-03,  4.17372804e-04,\n",
       "         9.65358515e-04,  1.22510674e-03, -7.98704359e-04,\n",
       "         1.36868856e-03, -1.30535120e-03, -1.19657801e-03],\n",
       "       [ 5.57271669e-02,  7.51112451e-03,  9.90245878e-01,\n",
       "        -1.01980275e-01, -5.08045702e-02, -2.31166662e-02,\n",
       "         2.25977534e-02,  4.22340772e-02,  4.47806986e-03,\n",
       "        -2.03427164e-02, -1.44869247e-03,  1.15869620e-03,\n",
       "         2.31375241e-04,  2.25744302e-04,  1.78223809e-03,\n",
       "         3.94123160e-04,  6.73342112e-04,  1.80666960e-04,\n",
       "         1.42354992e-04,  7.44106237e-05, -1.50857164e-04,\n",
       "        -4.80315787e-05,  1.36165607e-04, -3.67867124e-05,\n",
       "         4.85535217e-05, -9.14651057e-05, -7.20344351e-06,\n",
       "        -5.15075948e-05,  4.73766465e-05,  2.03423347e-05],\n",
       "       [-8.05646029e-07,  1.49438131e-06,  4.34471433e-05,\n",
       "         6.69114619e-06,  5.18037664e-05, -1.49989514e-05,\n",
       "        -2.37177063e-04, -1.60686058e-03,  1.02379224e-03,\n",
       "        -4.45191329e-04, -3.85723906e-03,  4.32409361e-03,\n",
       "         2.53645692e-03, -2.03874389e-04, -1.57517228e-02,\n",
       "         2.72335855e-02,  5.32163112e-03,  3.78861546e-02,\n",
       "        -5.34210340e-02,  3.77952551e-02,  6.61066896e-02,\n",
       "        -1.43604236e-02,  1.18579493e-01,  1.16955811e-01,\n",
       "         1.91129278e-02, -1.06982587e-01, -2.31482576e-03,\n",
       "        -3.23321169e-01,  1.79728739e-01, -9.01248743e-01],\n",
       "       [ 5.51918197e-06,  1.27357957e-05,  1.27658711e-04,\n",
       "        -8.93263012e-04, -5.24579915e-04, -3.59930492e-04,\n",
       "        -1.27405510e-03, -8.68045428e-03,  1.89362797e-02,\n",
       "         6.64830167e-03, -4.01767227e-02, -3.13125859e-02,\n",
       "        -3.81654059e-02,  4.61430983e-02, -4.90555493e-02,\n",
       "        -7.14537635e-02,  3.31399676e-01, -1.84806700e-02,\n",
       "        -5.56807262e-02,  2.25649739e-01,  4.07953355e-02,\n",
       "        -5.31878430e-02,  8.02419200e-01,  9.20949354e-02,\n",
       "        -1.51776701e-01,  3.42920796e-01,  9.55572740e-02,\n",
       "         1.08304964e-01, -3.75730401e-02,  4.34291557e-02],\n",
       "       [ 8.87094462e-06,  2.86921009e-05,  2.07365800e-04,\n",
       "        -9.95328878e-04, -5.76839903e-04, -3.83840527e-04,\n",
       "        -1.41036865e-03, -1.17908464e-02,  2.52133644e-02,\n",
       "         9.88467884e-03, -7.88928691e-02, -1.25506514e-01,\n",
       "         1.39282086e-01, -5.09256883e-02, -5.88786230e-02,\n",
       "        -9.66647543e-02,  6.76877071e-01,  2.13236057e-02,\n",
       "        -1.71590650e-01,  4.43120250e-01,  1.51525068e-01,\n",
       "         2.33095914e-03, -3.20221001e-01, -2.32860819e-01,\n",
       "         2.04174155e-01, -1.51034303e-01,  2.29448848e-02,\n",
       "         9.17739425e-02, -4.78504389e-02, -4.96009338e-02],\n",
       "       [ 3.27915009e-06,  9.36007477e-06,  4.78855144e-05,\n",
       "        -2.34560912e-04, -2.25598524e-04, -4.25616208e-04,\n",
       "        -5.21614746e-04, -3.99536083e-03,  2.90414428e-03,\n",
       "         2.63444827e-03, -8.56309877e-03, -1.43712028e-02,\n",
       "         1.20723947e-02, -3.76274691e-03, -1.64236829e-02,\n",
       "         6.30245504e-02,  1.00527901e-01, -5.36608155e-02,\n",
       "        -1.70880697e-03,  1.11669448e-01,  2.36680658e-02,\n",
       "        -2.06071899e-02,  3.65853434e-02, -2.37982721e-02,\n",
       "        -5.12935751e-03,  3.96060033e-03,  2.54907674e-03,\n",
       "        -8.54802094e-01,  3.07352340e-01,  3.76480981e-01],\n",
       "       [-1.24101836e-06,  1.22647432e-05,  1.14411270e-04,\n",
       "        -1.24528446e-04, -6.11321955e-05, -4.11711911e-05,\n",
       "        -7.13773114e-04, -5.54864404e-03,  1.76381905e-03,\n",
       "        -1.06193405e-03, -9.72156094e-03,  6.51537135e-03,\n",
       "        -3.81570258e-02, -8.42645063e-02,  1.19559471e-02,\n",
       "        -4.42032739e-02,  4.05424525e-02, -5.41504310e-02,\n",
       "        -1.23077156e-01, -1.24646702e-02, -4.01205397e-02,\n",
       "        -1.17416102e-01,  2.26926628e-01,  6.40992514e-03,\n",
       "        -4.44877141e-01, -8.30872058e-01,  1.00353743e-02,\n",
       "         3.62928822e-02, -5.57502875e-02,  9.78356412e-02],\n",
       "       [-8.54530832e-08,  2.89683790e-07,  2.43158370e-05,\n",
       "        -6.72412843e-05, -4.64421630e-05, -1.00135535e-04,\n",
       "        -1.94572501e-04, -1.44055227e-03,  2.10548292e-03,\n",
       "         6.29812958e-04, -6.24114957e-03, -2.13796926e-03,\n",
       "         6.22637688e-04,  5.15315786e-03, -1.34453974e-02,\n",
       "        -6.62754743e-03,  5.35339202e-02,  8.38679702e-03,\n",
       "        -1.45669104e-02,  3.87988752e-02, -2.34074017e-02,\n",
       "         1.12889769e-01,  7.70139814e-02, -1.79257889e-04,\n",
       "        -2.90928879e-02,  1.33614026e-02, -9.86791087e-01,\n",
       "         2.00238568e-02,  2.40473411e-02,  7.75315348e-03],\n",
       "       [ 7.15473257e-03, -5.68673345e-04, -1.55659935e-02,\n",
       "        -6.18999387e-02, -5.31447667e-02, -7.49807186e-02,\n",
       "         4.53901657e-02,  1.29429315e-01, -8.60507446e-01,\n",
       "        -2.83270491e-02, -4.21861885e-01,  1.68128352e-01,\n",
       "         3.10629219e-02,  6.31338895e-02,  1.22855427e-01,\n",
       "        -1.47186018e-02,  2.25143677e-02,  5.92277426e-03,\n",
       "         1.31009681e-02,  4.69179080e-03,  6.14078602e-03,\n",
       "        -6.81318531e-03,  1.97252553e-03, -3.65597275e-03,\n",
       "        -1.57275838e-03, -1.13210755e-03, -4.51134631e-04,\n",
       "        -1.77504179e-03,  8.98500542e-04, -5.15472696e-05],\n",
       "       [ 3.06736622e-03, -1.32152605e-02, -3.15446196e-02,\n",
       "        -5.42057412e-01,  6.12574312e-01,  1.21167279e-01,\n",
       "         5.52024144e-01, -1.60158677e-02, -2.11047341e-03,\n",
       "         9.44156308e-02,  3.27379836e-02, -4.46460235e-04,\n",
       "         4.46771810e-03,  1.61770544e-04, -7.46425242e-03,\n",
       "        -2.33182486e-03,  1.93164766e-03,  4.86674310e-04,\n",
       "         1.01735246e-03, -1.86035982e-04, -6.80390514e-04,\n",
       "        -3.14021728e-04,  5.94055091e-04, -3.28916831e-04,\n",
       "        -5.10381910e-04, -6.60844087e-04, -1.35174619e-06,\n",
       "        -1.50254292e-04,  1.21159573e-04, -1.07829473e-04],\n",
       "       [ 4.94576447e-02, -1.85961117e-04, -9.23133791e-02,\n",
       "        -6.66816451e-01, -5.64102976e-01,  4.44630524e-01,\n",
       "        -1.17015608e-01,  7.32396132e-02,  3.86007208e-02,\n",
       "        -8.41866696e-02,  2.65059616e-02, -2.63303246e-03,\n",
       "         3.35229868e-03, -4.07595409e-03, -1.02334959e-02,\n",
       "         6.73566380e-04,  5.41453437e-04,  6.13605812e-04,\n",
       "        -5.69726713e-04,  3.17772987e-04, -1.23096656e-03,\n",
       "         2.85261632e-04,  3.40223822e-04,  7.46498022e-05,\n",
       "        -3.00466192e-05, -1.44679382e-04,  6.58155925e-05,\n",
       "        -9.94451416e-05,  3.92446496e-05,  1.15443883e-04],\n",
       "       [ 8.52063392e-01, -5.19742358e-01, -3.93186778e-02,\n",
       "         3.87691524e-02,  1.84525531e-02, -2.01806772e-02,\n",
       "         1.83169390e-03, -5.01077221e-03,  4.09978696e-03,\n",
       "         3.10937022e-03,  1.75632076e-03, -9.19000402e-04,\n",
       "        -2.87275851e-04, -2.14122499e-04, -2.62085387e-04,\n",
       "         4.67346729e-05, -1.30917707e-04, -4.23143566e-05,\n",
       "        -6.08533609e-05, -4.94152270e-05,  2.07826845e-05,\n",
       "         2.78114736e-05, -2.29399965e-05,  1.52392975e-05,\n",
       "         6.32348960e-06,  9.13824977e-06,  2.32842029e-07,\n",
       "         1.32750118e-05, -7.82704450e-06, -5.20580200e-06],\n",
       "       [ 6.42005481e-06, -7.68565692e-05, -4.21307399e-05,\n",
       "        -7.21927589e-04, -4.65062512e-04,  1.47871511e-03,\n",
       "         3.94704099e-03,  2.13704577e-03,  1.14296358e-02,\n",
       "         1.17730197e-02, -5.36022007e-02,  5.93045367e-02,\n",
       "        -7.34213381e-03, -2.83201064e-02, -6.01702395e-02,\n",
       "         3.91496947e-01, -2.60189514e-01,  4.12030401e-01,\n",
       "        -4.69474770e-01,  2.49151067e-01,  3.71434661e-01,\n",
       "         7.74928696e-03,  4.07567556e-02,  3.38845354e-01,\n",
       "         1.84440788e-01, -7.59773478e-02, -5.02792306e-03,\n",
       "         5.98909049e-02, -1.63749618e-02,  1.32092425e-01],\n",
       "       [ 1.01275937e-04, -2.56104144e-04, -7.64833237e-04,\n",
       "        -1.03619614e-02, -6.09647380e-03,  9.48569782e-03,\n",
       "         7.74390329e-03,  8.59643463e-03,  1.56279540e-01,\n",
       "         8.54753911e-02, -3.93362884e-01, -1.24613176e-01,\n",
       "        -7.40034844e-01,  4.15638333e-01, -1.33017878e-01,\n",
       "        -3.33214534e-02,  6.24843150e-02,  4.05638129e-03,\n",
       "         2.95753422e-02, -9.92181813e-02,  1.75980615e-01,\n",
       "        -4.02655019e-02, -8.45421998e-02, -4.71308735e-02,\n",
       "         9.05167510e-04, -3.31512433e-02, -9.24822560e-03,\n",
       "         1.10335473e-03,  2.53473356e-02, -8.29891875e-05],\n",
       "       [ 1.68928625e-04, -1.75471479e-04, -8.46552237e-04,\n",
       "        -1.15618071e-02, -6.16530214e-03,  1.04511092e-02,\n",
       "         1.08822097e-02,  5.96017341e-03,  1.91177497e-01,\n",
       "         1.00411922e-01, -5.92901605e-01, -5.97245084e-01,\n",
       "         3.35405153e-01, -9.88608381e-02,  1.29230578e-01,\n",
       "        -1.05075524e-01, -2.69804020e-01,  1.16402570e-02,\n",
       "         2.70708049e-02,  7.59212067e-02, -9.48178123e-02,\n",
       "        -3.33052794e-02,  6.52663643e-02, -1.18303714e-02,\n",
       "         2.49243203e-02, -1.62159306e-03, -4.92968092e-03,\n",
       "        -6.00223990e-03,  8.73144088e-03,  1.08953390e-03],\n",
       "       [ 7.36658178e-05, -3.05051743e-05, -3.33596393e-04,\n",
       "        -2.99467373e-03, -2.41157233e-03,  1.59681971e-03,\n",
       "         4.24156865e-03, -4.06900452e-04,  3.09293509e-02,\n",
       "         2.84427473e-02, -1.14283667e-01, -2.27020609e-02,\n",
       "        -3.29427129e-03, -4.73907070e-02, -2.80515569e-02,\n",
       "         7.21728014e-01,  5.43397196e-02, -5.80515606e-01,\n",
       "         1.57973616e-01,  1.88195407e-01, -1.97712543e-02,\n",
       "         3.67880307e-02, -8.91754582e-02,  1.03567515e-01,\n",
       "        -1.66799320e-01,  4.32253502e-02,  2.98937509e-03,\n",
       "         8.35480473e-02, -3.09344589e-02, -4.79998985e-02],\n",
       "       [ 1.78986262e-05, -1.57042845e-04, -3.49992952e-04,\n",
       "        -2.64085170e-03, -1.88324182e-03,  5.47852368e-03,\n",
       "         7.03799527e-03,  7.69020238e-03,  2.02890503e-02,\n",
       "         2.97280861e-02, -1.26297595e-01,  6.98326847e-02,\n",
       "        -4.24745510e-01, -7.99896166e-01,  1.55327182e-01,\n",
       "        -1.26502755e-01,  2.27045336e-03, -1.65287246e-01,\n",
       "        -2.57505985e-01, -5.35602114e-02, -3.91032580e-02,\n",
       "         1.97580346e-02, -1.96427496e-02, -5.07940555e-03,\n",
       "         6.17567463e-02,  1.19316598e-01, -3.40003739e-03,\n",
       "        -1.56674416e-02,  6.96062043e-03, -1.28640353e-02],\n",
       "       [ 1.61356159e-06, -5.53071662e-05, -4.09371692e-05,\n",
       "        -9.08697292e-04, -5.19581269e-04,  1.23726579e-03,\n",
       "         1.17067750e-03,  9.48038255e-05,  1.76591684e-02,\n",
       "         1.21927540e-02, -5.67738652e-02,  2.22345679e-04,\n",
       "        -6.41650534e-02,  4.83413296e-02, -1.76897423e-02,\n",
       "         3.48926382e-02,  1.74914413e-02,  1.13530565e-01,\n",
       "        -6.39356851e-02,  5.62031123e-02, -2.51854689e-01,\n",
       "         8.99017368e-01,  5.59332520e-02, -3.03265921e-02,\n",
       "        -4.43746763e-02, -6.67516068e-02,  1.10843881e-01,\n",
       "        -1.15823522e-01, -2.44427991e-01, -1.74174206e-02]])"
      ]
     },
     "execution_count": 32,
     "metadata": {},
     "output_type": "execute_result"
    }
   ],
   "source": [
    "eigenvectors"
   ]
  },
  {
   "cell_type": "code",
   "execution_count": 33,
   "id": "e0c5d312",
   "metadata": {},
   "outputs": [
    {
     "name": "stderr",
     "output_type": "stream",
     "text": [
      "C:\\Users\\Prayag Purani\\anaconda3\\lib\\site-packages\\matplotlib\\cbook\\__init__.py:1298: ComplexWarning: Casting complex values to real discards the imaginary part\n",
      "  return np.asarray(x, float)\n"
     ]
    },
    {
     "data": {
      "image/png": "[encoded data removed]",
      "text/plain": [
       "<Figure size 432x288 with 1 Axes>"
      ]
     },
     "metadata": {
      "needs_background": "light"
     },
     "output_type": "display_data"
    }
   ],
   "source": [
    "# Ploting precent of variance in Scree plot\n",
    "import matplotlib.pyplot as plt\n",
    "from sklearn.decomposition import PCA\n",
    "explained_variance_ratio = eigenvalues / np.sum(eigenvalues)\n",
    "cumulative_variance_ratio = np.cumsum(explained_variance_ratio)\n",
    "plt.plot(range(1, len(explained_variance_ratio) + 1), explained_variance_ratio, marker='o')\n",
    "plt.xlabel('Principal Component')\n",
    "plt.ylabel('Explained Variance Ratio')\n",
    "plt.title('Scree Plot')\n",
    "plt.grid(True)\n",
    "plt.show()"
   ]
  },
  {
   "cell_type": "code",
   "execution_count": 34,
   "id": "a2814f06",
   "metadata": {},
   "outputs": [],
   "source": [
    "##### 3.d\n",
    "# Explaination"
   ]
  },
  {
   "cell_type": "code",
   "execution_count": 35,
   "id": "33b13d4a",
   "metadata": {},
   "outputs": [
    {
     "data": {
      "image/png": "[encoded data removed]",
      "text/plain": [
       "<Figure size 576x432 with 1 Axes>"
      ]
     },
     "metadata": {
      "needs_background": "light"
     },
     "output_type": "display_data"
    }
   ],
   "source": [
    "##### 3.e\n",
    "# Scatter plot\n",
    "target_labels = cancer.target\n",
    "unique_labels = np.unique(target_labels)\n",
    "\n",
    "projected_data = np.dot(mean_center_data, eigenvectors[:, :2])\n",
    "\n",
    "plt.figure(figsize=(8, 6))\n",
    "for label in unique_labels:\n",
    "    indices = target_labels == label\n",
    "    plt.scatter(projected_data[indices, 0], projected_data[indices, 1], label=f'Class {label}')\n",
    "\n",
    "plt.xlabel('Principal Component 1')\n",
    "plt.ylabel('Principal Component 2')\n",
    "plt.title('PCA: First Two Principal Components')\n",
    "plt.legend()\n",
    "plt.show()\n"
   ]
  },
  {
   "cell_type": "markdown",
   "id": "b7064ade",
   "metadata": {},
   "source": [
    "# Question 4"
   ]
  },
  {
   "cell_type": "code",
   "execution_count": 36,
   "id": "867ed484",
   "metadata": {},
   "outputs": [],
   "source": [
    "# correlation matrix\n",
    "correlation_matrix = np.corrcoef(mean_center_data, rowvar=False)"
   ]
  },
  {
   "cell_type": "code",
   "execution_count": 37,
   "id": "1eb90097",
   "metadata": {},
   "outputs": [],
   "source": [
    "eigenvalues_corr, eigenvectors_corr = np.linalg.eig(correlation_matrix)"
   ]
  },
  {
   "cell_type": "code",
   "execution_count": 38,
   "id": "1f3182ca",
   "metadata": {},
   "outputs": [],
   "source": [
    "# Plot the Scree Plot using the correlation matrix\n",
    "explained_variance_ratio_corr = eigenvalues_corr / np.sum(eigenvalues_corr)\n",
    "cumulative_variance_ratio_corr = np.cumsum(explained_variance_ratio_corr)"
   ]
  },
  {
   "cell_type": "code",
   "execution_count": 39,
   "id": "9bd6813d",
   "metadata": {},
   "outputs": [
    {
     "data": {
      "image/png": "[encoded data removed]",
      "text/plain": [
       "<Figure size 720x360 with 1 Axes>"
      ]
     },
     "metadata": {
      "needs_background": "light"
     },
     "output_type": "display_data"
    }
   ],
   "source": [
    "plt.figure(figsize=(10, 5))\n",
    "plt.plot(range(1, len(explained_variance_ratio_corr) + 1), explained_variance_ratio_corr, marker='o', color='orange')\n",
    "plt.xlabel('Principal Component')\n",
    "plt.ylabel('Explained Variance Ratio (Correlation Matrix)')\n",
    "plt.title('Scree Plot (Correlation Matrix)')\n",
    "plt.grid(True)\n",
    "plt.tight_layout()\n",
    "plt.show()"
   ]
  },
  {
   "cell_type": "code",
   "execution_count": null,
   "id": "792efddc",
   "metadata": {},
   "outputs": [],
   "source": []
  },
  {
   "cell_type": "code",
   "execution_count": null,
   "id": "f1978be7",
   "metadata": {},
   "outputs": [],
   "source": []
  }
 ],
 "metadata": {
  "kernelspec": {
   "display_name": "Python 3 (ipykernel)",
   "language": "python",
   "name": "python3"
  },
  "language_info": {
   "codemirror_mode": {
    "name": "ipython",
    "version": 3
   },
   "file_extension": ".py",
   "mimetype": "text/x-python",
   "name": "python",
   "nbconvert_exporter": "python",
   "pygments_lexer": "ipython3",
   "version": "3.9.12"
  }
 },
 "nbformat": 4,
 "nbformat_minor": 5
}
